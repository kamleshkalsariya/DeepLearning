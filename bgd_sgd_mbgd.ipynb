{
 "cells": [
  {
   "cell_type": "code",
   "execution_count": null,
   "id": "4f1f3be1",
   "metadata": {},
   "outputs": [],
   "source": [
    "import pandas as pd\n",
    "import numpy as np\n",
    "from matplotlib import pyplot as plt\n",
    "%matplot inline"
   ]
  },
  {
   "cell_type": "code",
   "execution_count": 3,
   "id": "da8826fd",
   "metadata": {},
   "outputs": [
    {
     "data": {
      "text/html": [
       "<div>\n",
       "<style scoped>\n",
       "    .dataframe tbody tr th:only-of-type {\n",
       "        vertical-align: middle;\n",
       "    }\n",
       "\n",
       "    .dataframe tbody tr th {\n",
       "        vertical-align: top;\n",
       "    }\n",
       "\n",
       "    .dataframe thead th {\n",
       "        text-align: right;\n",
       "    }\n",
       "</style>\n",
       "<table border=\"1\" class=\"dataframe\">\n",
       "  <thead>\n",
       "    <tr style=\"text-align: right;\">\n",
       "      <th></th>\n",
       "      <th>area</th>\n",
       "      <th>bedrooms</th>\n",
       "      <th>price</th>\n",
       "    </tr>\n",
       "  </thead>\n",
       "  <tbody>\n",
       "    <tr>\n",
       "      <th>0</th>\n",
       "      <td>1056</td>\n",
       "      <td>2</td>\n",
       "      <td>39.07</td>\n",
       "    </tr>\n",
       "    <tr>\n",
       "      <th>1</th>\n",
       "      <td>2600</td>\n",
       "      <td>4</td>\n",
       "      <td>120.00</td>\n",
       "    </tr>\n",
       "    <tr>\n",
       "      <th>2</th>\n",
       "      <td>1440</td>\n",
       "      <td>3</td>\n",
       "      <td>62.00</td>\n",
       "    </tr>\n",
       "    <tr>\n",
       "      <th>3</th>\n",
       "      <td>1521</td>\n",
       "      <td>3</td>\n",
       "      <td>75.00</td>\n",
       "    </tr>\n",
       "    <tr>\n",
       "      <th>4</th>\n",
       "      <td>1200</td>\n",
       "      <td>2</td>\n",
       "      <td>51.00</td>\n",
       "    </tr>\n",
       "  </tbody>\n",
       "</table>\n",
       "</div>"
      ],
      "text/plain": [
       "   area  bedrooms   price\n",
       "0  1056         2   39.07\n",
       "1  2600         4  120.00\n",
       "2  1440         3   62.00\n",
       "3  1521         3   75.00\n",
       "4  1200         2   51.00"
      ]
     },
     "execution_count": 3,
     "metadata": {},
     "output_type": "execute_result"
    }
   ],
   "source": [
    "df =pd.read_csv(\"homeprices_banglore.csv\")\n",
    "df.head()"
   ]
  },
  {
   "cell_type": "code",
   "execution_count": 133,
   "id": "5ae01939",
   "metadata": {},
   "outputs": [
    {
     "data": {
      "text/plain": [
       "array([[0.08827586, 0.25      ],\n",
       "       [0.62068966, 0.75      ],\n",
       "       [0.22068966, 0.5       ],\n",
       "       [0.24862069, 0.5       ],\n",
       "       [0.13793103, 0.25      ],\n",
       "       [0.12758621, 0.25      ],\n",
       "       [0.6662069 , 0.75      ],\n",
       "       [0.86206897, 0.75      ],\n",
       "       [0.17586207, 0.5       ],\n",
       "       [1.        , 1.        ],\n",
       "       [0.34482759, 0.5       ],\n",
       "       [0.68448276, 0.75      ],\n",
       "       [0.06896552, 0.25      ],\n",
       "       [0.10344828, 0.25      ],\n",
       "       [0.5       , 0.5       ],\n",
       "       [0.12931034, 0.25      ],\n",
       "       [0.13103448, 0.5       ],\n",
       "       [0.25517241, 0.5       ],\n",
       "       [0.67931034, 0.5       ],\n",
       "       [0.        , 0.        ]])"
      ]
     },
     "execution_count": 133,
     "metadata": {},
     "output_type": "execute_result"
    }
   ],
   "source": [
    "from sklearn import preprocessing\n",
    "sx = preprocessing.MinMaxScaler()\n",
    "sy = preprocessing.MinMaxScaler()\n",
    "scaled_X = sx.fit_transform(df.drop('price',axis = 1))\n",
    "scaled_X"
   ]
  },
  {
   "cell_type": "code",
   "execution_count": 134,
   "id": "abf96bfe",
   "metadata": {},
   "outputs": [
    {
     "data": {
      "text/plain": [
       "(20, 2)"
      ]
     },
     "execution_count": 134,
     "metadata": {},
     "output_type": "execute_result"
    }
   ],
   "source": [
    "scaled_X.shape"
   ]
  },
  {
   "cell_type": "code",
   "execution_count": 135,
   "id": "db889b10",
   "metadata": {},
   "outputs": [
    {
     "data": {
      "text/plain": [
       "array([[0.05237037],\n",
       "       [0.65185185],\n",
       "       [0.22222222],\n",
       "       [0.31851852],\n",
       "       [0.14074074],\n",
       "       [0.04444444],\n",
       "       [0.76296296],\n",
       "       [0.91111111],\n",
       "       [0.13333333],\n",
       "       [1.        ],\n",
       "       [0.37037037],\n",
       "       [0.8       ],\n",
       "       [0.04444444],\n",
       "       [0.05925926],\n",
       "       [0.51111111],\n",
       "       [0.07407407],\n",
       "       [0.11851852],\n",
       "       [0.20740741],\n",
       "       [0.51851852],\n",
       "       [0.        ]])"
      ]
     },
     "execution_count": 135,
     "metadata": {},
     "output_type": "execute_result"
    }
   ],
   "source": [
    "scaled_y = sy.fit_transform(df['price'].values.reshape(df.shape[0],1))\n",
    "scaled_y"
   ]
  },
  {
   "cell_type": "code",
   "execution_count": 136,
   "id": "66a93040",
   "metadata": {},
   "outputs": [
    {
     "data": {
      "text/plain": [
       "(20, 1)"
      ]
     },
     "execution_count": 136,
     "metadata": {},
     "output_type": "execute_result"
    }
   ],
   "source": [
    "scaled_y.shape"
   ]
  },
  {
   "cell_type": "code",
   "execution_count": 124,
   "id": "c1835090",
   "metadata": {},
   "outputs": [
    {
     "data": {
      "text/plain": [
       "(2,)"
      ]
     },
     "execution_count": 124,
     "metadata": {},
     "output_type": "execute_result"
    }
   ],
   "source": [
    "w = np.ones(shape = (2))\n",
    "w.shape"
   ]
  },
  {
   "cell_type": "code",
   "execution_count": 230,
   "id": "d6fc8c06",
   "metadata": {},
   "outputs": [
    {
     "data": {
      "text/plain": [
       "(array([0.70712464, 0.67456527]), -0.23034857438407427, 0.0068641890429808105)"
      ]
     },
     "execution_count": 230,
     "metadata": {},
     "output_type": "execute_result"
    }
   ],
   "source": [
    "def batch_gd(X,y_true,epochs,l_r = 0.01):\n",
    "    n_col = X.shape[1]\n",
    "    w = np.ones(shape = (n_col))\n",
    "    b=0\n",
    "    n_raw = X.shape[0]\n",
    "    cost = []\n",
    "    epoch = []\n",
    "    for i in range(epochs):\n",
    "        y_p = np.dot(w,X.T)+b\n",
    "        w_grad = -(2/n_raw)*(X.T.dot(y_true- y_p))\n",
    "        b_grad = -(2/n_raw)*np.sum(y_true-y_p)\n",
    "        w = w - l_r * w_grad\n",
    "        b = b - l_r * b_grad\n",
    "        \n",
    "        mse = np.mean(np.square(y_true-y_p))\n",
    "        if i%10 ==0:\n",
    "            cost.append(mse)\n",
    "            epoch.append(i)\n",
    "    return w,b,mse,cost,epoch\n",
    "w,b,mse,cost,epoch = bgd(scaled_X,scaled_y.reshape(scaled_y.shape[0],),500)      \n",
    "w,b,mse"
   ]
  },
  {
   "cell_type": "code",
   "execution_count": 231,
   "id": "5d85754c",
   "metadata": {},
   "outputs": [
    {
     "data": {
      "text/plain": [
       "[<matplotlib.lines.Line2D at 0x182bab162b0>]"
      ]
     },
     "execution_count": 231,
     "metadata": {},
     "output_type": "execute_result"
    },
    {
     "data": {
      "image/png": "[encoded data removed]",
      "text/plain": [
       "<Figure size 432x288 with 1 Axes>"
      ]
     },
     "metadata": {
      "needs_background": "light"
     },
     "output_type": "display_data"
    }
   ],
   "source": [
    "plt.plot(epoch,cost)"
   ]
  },
  {
   "cell_type": "code",
   "execution_count": 232,
   "id": "d2235289",
   "metadata": {},
   "outputs": [
    {
     "data": {
      "text/plain": [
       "128.45484403267596"
      ]
     },
     "execution_count": 232,
     "metadata": {},
     "output_type": "execute_result"
    }
   ],
   "source": [
    "def predict(area,bathrooms,w,b):\n",
    "    scaled_X = sx.transform([[area,bathrooms]])[0]\n",
    "    scaled_price  = w[0]*scaled_X[0]+w[1]*scaled_X[1]+b\n",
    "    return sy.inverse_transform([[scaled_price]])[0][0]\n",
    "    \n",
    "predict(2600,4,w,b)"
   ]
  },
  {
   "cell_type": "code",
   "execution_count": 233,
   "id": "843d1f5e",
   "metadata": {},
   "outputs": [
    {
     "data": {
      "text/plain": [
       "30.253094462442355"
      ]
     },
     "execution_count": 233,
     "metadata": {},
     "output_type": "execute_result"
    }
   ],
   "source": [
    "predict(1000,2,w,b)"
   ]
  },
  {
   "cell_type": "code",
   "execution_count": 155,
   "id": "687155a3",
   "metadata": {},
   "outputs": [
    {
     "data": {
      "text/plain": [
       "53.01967220645994"
      ]
     },
     "execution_count": 155,
     "metadata": {},
     "output_type": "execute_result"
    }
   ],
   "source": [
    "predict(1000,3,w,b)"
   ]
  },
  {
   "cell_type": "code",
   "execution_count": 192,
   "id": "25cec2e3",
   "metadata": {},
   "outputs": [
    {
     "data": {
      "text/plain": [
       "46.71203011312936"
      ]
     },
     "execution_count": 192,
     "metadata": {},
     "output_type": "execute_result"
    }
   ],
   "source": [
    "predict(1500,2,w,b)"
   ]
  },
  {
   "cell_type": "code",
   "execution_count": 207,
   "id": "6ea75824",
   "metadata": {},
   "outputs": [
    {
     "data": {
      "text/plain": [
       "1"
      ]
     },
     "execution_count": 207,
     "metadata": {},
     "output_type": "execute_result"
    }
   ],
   "source": [
    "import random\n",
    "random.randint(0,6)"
   ]
  },
  {
   "cell_type": "code",
   "execution_count": 234,
   "id": "0758f161",
   "metadata": {},
   "outputs": [
    {
     "data": {
      "text/plain": [
       "(array([0.70422117, 0.67108277]), -0.22874610322922498, 0.0022500897694853594)"
      ]
     },
     "execution_count": 234,
     "metadata": {},
     "output_type": "execute_result"
    }
   ],
   "source": [
    "def stochastic_gd(X,y_true,epochs,l_r = 0.01):\n",
    "    n_col = X.shape[1]\n",
    "    w = np.ones(shape = (n_col))\n",
    "    b=0\n",
    "    n_raw = X.shape[0]\n",
    "    cost = []\n",
    "    epoch = []\n",
    "    for i in range(epochs):\n",
    "        random_index = random.randint(0,n_raw-1)\n",
    "        sample_x = X[random_index]\n",
    "        sample_y = y_true[random_index]\n",
    "        y_p = np.dot(w,sample_x.T)+b\n",
    "        w_grad = -(2/n_raw)*(sample_x.T.dot(sample_y- y_p))\n",
    "        b_grad = -(2/n_raw)*(sample_y-y_p)\n",
    "        w = w - l_r * w_grad\n",
    "        b = b - l_r * b_grad\n",
    "        \n",
    "        mse = np.mean(np.square(sample_y-y_p))\n",
    "        if i%100 ==0:\n",
    "            cost.append(mse)\n",
    "            epoch.append(i)\n",
    "    return w,b,mse,cost,epoch\n",
    "\n",
    "w_sgd,b_sgd,mse_sgd,cost_sgd,epoch_sgd = sgd(scaled_X,scaled_y.reshape(scaled_y.shape[0],),10000)      \n",
    "w_sgd,b_sgd,mse_sgd"
   ]
  },
  {
   "cell_type": "code",
   "execution_count": 235,
   "id": "1dd36092",
   "metadata": {},
   "outputs": [
    {
     "data": {
      "text/plain": [
       "[<matplotlib.lines.Line2D at 0x182bab75850>]"
      ]
     },
     "execution_count": 235,
     "metadata": {},
     "output_type": "execute_result"
    },
    {
     "data": {
      "image/png": "[encoded data removed]",
      "text/plain": [
       "<Figure size 432x288 with 1 Axes>"
      ]
     },
     "metadata": {
      "needs_background": "light"
     },
     "output_type": "display_data"
    }
   ],
   "source": [
    "plt.plot(epoch_sgd,cost_sgd)"
   ]
  },
  {
   "cell_type": "code",
   "execution_count": 236,
   "id": "2c16bb12",
   "metadata": {},
   "outputs": [
    {
     "data": {
      "text/plain": [
       "128.07528400203043"
      ]
     },
     "execution_count": 236,
     "metadata": {},
     "output_type": "execute_result"
    }
   ],
   "source": [
    "predict(2600,4,w_sgd,b_sgd)"
   ]
  },
  {
   "cell_type": "code",
   "execution_count": 237,
   "id": "426172df",
   "metadata": {},
   "outputs": [
    {
     "data": {
      "text/plain": [
       "(array([0.70464817, 0.67263896]), -0.22680347189071293, 0.0020301068577638095)"
      ]
     },
     "execution_count": 237,
     "metadata": {},
     "output_type": "execute_result"
    }
   ],
   "source": [
    "def mini_batch_gd(X,y_true,epochs,l_r = 0.01):\n",
    "    n_col = X.shape[1]\n",
    "    w = np.ones(shape = (n_col))\n",
    "    b=0\n",
    "    n_raw = X.shape[0]\n",
    "    cost = []\n",
    "    epoch = []\n",
    "    s_x = []\n",
    "    s_y = []\n",
    "    for i in range(epochs):\n",
    "        for i in range(0,5):\n",
    "            n = random.randint(0,n_raw-1)\n",
    "            s_x.append(X[n])\n",
    "            s_y.append(y_true[n])\n",
    "        sample_x = np.array(s_x)\n",
    "        sample_y = np.array(s_y)\n",
    "        y_p = np.dot(w,sample_x.T)+b\n",
    "        w_grad = -(2/n_raw)*(sample_x.T.dot(sample_y- y_p))\n",
    "        b_grad = -(2/n_raw)*np.sum(sample_y-y_p)\n",
    "        w = w - l_r * w_grad\n",
    "        b = b - l_r * b_grad\n",
    "        \n",
    "        mse = np.mean(np.square(sample_y-y_p))\n",
    "        if i%100 ==0:\n",
    "            cost.append(mse)\n",
    "            epoch.append(i)\n",
    "    return w,b,mse,cost,epoch\n",
    "\n",
    "w_mbgd,b_mbgd,mse_mbgd,cost_mbgd,epoch_mbgd = sgd(scaled_X,scaled_y.reshape(scaled_y.shape[0],),10000)      \n",
    "w_mbgd,b_mbgd,mse_mbgd"
   ]
  },
  {
   "cell_type": "code",
   "execution_count": 239,
   "id": "19f0802f",
   "metadata": {},
   "outputs": [
    {
     "data": {
      "text/plain": [
       "[<matplotlib.lines.Line2D at 0x182bac39a00>]"
      ]
     },
     "execution_count": 239,
     "metadata": {},
     "output_type": "execute_result"
    },
    {
     "data": {
      "image/png": "[encoded data removed]",
      "text/plain": [
       "<Figure size 432x288 with 1 Axes>"
      ]
     },
     "metadata": {
      "needs_background": "light"
     },
     "output_type": "display_data"
    }
   ],
   "source": [
    "plt.plot(epoch_mbgd,cost_mbgd)"
   ]
  },
  {
   "cell_type": "code",
   "execution_count": 240,
   "id": "90012dea",
   "metadata": {},
   "outputs": [
    {
     "data": {
      "text/plain": [
       "128.53088325263937"
      ]
     },
     "execution_count": 240,
     "metadata": {},
     "output_type": "execute_result"
    }
   ],
   "source": [
    "predict(2600,4,w_mbgd,b_mbgd)"
   ]
  }
 ],
 "metadata": {
  "kernelspec": {
   "display_name": "Python 3",
   "language": "python",
   "name": "python3"
  },
  "language_info": {
   "codemirror_mode": {
    "name": "ipython",
    "version": 3
   },
   "file_extension": ".py",
   "mimetype": "text/x-python",
   "name": "python",
   "nbconvert_exporter": "python",
   "pygments_lexer": "ipython3",
   "version": "3.9.5"
  }
 },
 "nbformat": 4,
 "nbformat_minor": 5
}
